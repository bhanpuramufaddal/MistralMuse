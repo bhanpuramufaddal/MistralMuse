{
 "cells": [
  {
   "cell_type": "code",
   "execution_count": 1,
   "metadata": {},
   "outputs": [
    {
     "name": "stdout",
     "output_type": "stream",
     "text": [
      "Requirement already satisfied: pip in ./music-gen-env/lib/python3.10/site-packages (24.1)\n",
      "Requirement already satisfied: tqdm in ./music-gen-env/lib/python3.10/site-packages (4.66.4)\n"
     ]
    }
   ],
   "source": [
    "!python -m pip install --upgrade pip\n",
    "!python -m pip install tqdm"
   ]
  },
  {
   "cell_type": "code",
   "execution_count": 2,
   "metadata": {},
   "outputs": [],
   "source": [
    "import zipfile, os\n",
    "\n",
    "def mxl_to_xml(mxl_filename, xml_filename):\n",
    "    # Open the .mxl file\n",
    "    with zipfile.ZipFile(mxl_filename, 'r') as zip_ref:\n",
    "        # Assuming there is only one file inside, which is the MusicXML file\n",
    "        for file_name in zip_ref.namelist():\n",
    "            if file_name.endswith('.xml'):\n",
    "                # Extract the .xml file from the .mxl archive\n",
    "                zip_ref.extract(file_name)\n",
    "                # Rename the extracted file to the desired .xml filename\n",
    "                os.rename(file_name, xml_filename)\n",
    "                return"
   ]
  },
  {
   "cell_type": "code",
   "execution_count": 9,
   "metadata": {},
   "outputs": [],
   "source": [
    "authors = {\n",
    "    'bach': 'Johann Sebastian Bach',\n",
    "    'beethoven': 'Ludwig van Beethoven',\n",
    "    'chopin': 'Frédéric Chopin',\n",
    "    'handel': 'George Frideric Handel',\n",
    "    'haydn': 'Joseph Haydn',\n",
    "    'mozart': 'Wolfgang Amadeus Mozart',\n",
    "    'schubert': 'Franz Schubert',\n",
    "    'schumann_robert': 'Robert Schumann',\n",
    "    'schumann_clara': 'Clara Schumann',\n",
    "    'weber': 'Carl Maria von Weber',\n",
    "    'verdi': 'Giuseppe Verdi',\n",
    "    'schoenberg': 'Arnold Schoenberg',\n",
    "    'palestrina': 'Giovanni Pierluigi da Palestrina',\n",
    "    'monteverdi': 'Claudio Monteverdi',\n",
    "    'lusitano': 'Vicente Lusitano',\n",
    "    'luca': 'D. Luca',\n",
    "    'josquin': 'Josquin des Prez',\n",
    "    'joplin': 'Scott Joplin',\n",
    "    'cpebach': 'Carl Philipp Emanuel Bach',\n",
    "    'corelli': 'Arcangelo Corelli',\n",
    "    'ciconia': 'Johannes Ciconia',\n",
    "    'beach': 'Amy Beach',\n",
    "    'johnson_j_r': 'J. Rosamund Johnson',\n",
    "}\n",
    "\n",
    "compositions ={author:[] for author in authors}"
   ]
  },
  {
   "cell_type": "code",
   "execution_count": 14,
   "metadata": {},
   "outputs": [
    {
     "name": "stderr",
     "output_type": "stream",
     "text": [
      "100%|██████████| 23/23 [01:41<00:00,  4.42s/it]\n"
     ]
    }
   ],
   "source": [
    "from music21 import corpus\n",
    "import os, sys\n",
    "from tqdm import tqdm\n",
    "\n",
    "# Create a directory to store the training data in abc format\n",
    "os.makedirs('train_data', exist_ok=True)\n",
    "\n",
    "# Create a temp directory to store the xml files\n",
    "os.makedirs('temp', exist_ok=True)\n",
    "\n",
    "num_works = 0\n",
    "\n",
    "for author in tqdm(authors.keys()):\n",
    "  os.makedirs(f'train_data/{author}', exist_ok=True)  \n",
    "  paths = corpus.getComposer(author)\n",
    "  paths = [str(path) for path in paths]\n",
    "\n",
    "  for path in paths:\n",
    "    filename = path.split('/')[-1]  \n",
    "    composition_name = \".\".join(filename.split('.')[0:-1])\n",
    "    if path.endswith('.abc'): \n",
    "      os.system(f'cp {path} train_data/{author}/{filename}')\n",
    "      compositions[author].append(composition_name) \n",
    "\n",
    "    if path.endswith('.mxl'):\n",
    "      xml_path = f'temp/{composition_name}.xml'\n",
    "      mxl_to_xml(path, xml_path)\n",
    "      os.system(f'python xml2abc.py {xml_path} -o train_data/{author}')\n",
    "      num_works += 1\n",
    "      compositions[author].append(composition_name)\n",
    "      os.remove(xml_path)"
   ]
  },
  {
   "cell_type": "code",
   "execution_count": 11,
   "metadata": {},
   "outputs": [
    {
     "data": {
      "text/plain": [
       "408"
      ]
     },
     "execution_count": 11,
     "metadata": {},
     "output_type": "execute_result"
    }
   ],
   "source": [
    "num_works"
   ]
  }
 ],
 "metadata": {
  "kernelspec": {
   "display_name": "music-gen-env",
   "language": "python",
   "name": "python3"
  },
  "language_info": {
   "codemirror_mode": {
    "name": "ipython",
    "version": 3
   },
   "file_extension": ".py",
   "mimetype": "text/x-python",
   "name": "python",
   "nbconvert_exporter": "python",
   "pygments_lexer": "ipython3",
   "version": "3.10.14"
  }
 },
 "nbformat": 4,
 "nbformat_minor": 2
}
