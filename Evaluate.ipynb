{
 "cells": [
  {
   "cell_type": "code",
   "execution_count": 1,
   "metadata": {},
   "outputs": [
    {
     "name": "stdout",
     "output_type": "stream",
     "text": [
      "Overwriting requirements.txt\n"
     ]
    }
   ],
   "source": [
    "%%writefile requirements.txt\n",
    "datasets==2.20.0\n",
    "pandas==2.2.2\n",
    "mistralai==0.4.1\n",
    "python-dotenv==1.0.1\n"
   ]
  },
  {
   "cell_type": "code",
   "execution_count": 2,
   "metadata": {},
   "outputs": [
    {
     "name": "stdout",
     "output_type": "stream",
     "text": [
      "Requirement already satisfied: datasets==2.20.0 in ./music-gen-env/lib/python3.10/site-packages (from -r requirements.txt (line 1)) (2.20.0)\n",
      "Requirement already satisfied: pandas==2.2.2 in ./music-gen-env/lib/python3.10/site-packages (from -r requirements.txt (line 2)) (2.2.2)\n",
      "Requirement already satisfied: mistralai==0.4.1 in ./music-gen-env/lib/python3.10/site-packages (from -r requirements.txt (line 3)) (0.4.1)\n",
      "Requirement already satisfied: python-dotenv==1.0.1 in ./music-gen-env/lib/python3.10/site-packages (from -r requirements.txt (line 4)) (1.0.1)\n",
      "Requirement already satisfied: filelock in ./music-gen-env/lib/python3.10/site-packages (from datasets==2.20.0->-r requirements.txt (line 1)) (3.15.4)\n",
      "Requirement already satisfied: numpy>=1.17 in ./music-gen-env/lib/python3.10/site-packages (from datasets==2.20.0->-r requirements.txt (line 1)) (2.0.0)\n",
      "Requirement already satisfied: pyarrow>=15.0.0 in ./music-gen-env/lib/python3.10/site-packages (from datasets==2.20.0->-r requirements.txt (line 1)) (16.1.0)\n",
      "Requirement already satisfied: pyarrow-hotfix in ./music-gen-env/lib/python3.10/site-packages (from datasets==2.20.0->-r requirements.txt (line 1)) (0.6)\n",
      "Requirement already satisfied: dill<0.3.9,>=0.3.0 in ./music-gen-env/lib/python3.10/site-packages (from datasets==2.20.0->-r requirements.txt (line 1)) (0.3.8)\n",
      "Requirement already satisfied: requests>=2.32.2 in ./music-gen-env/lib/python3.10/site-packages (from datasets==2.20.0->-r requirements.txt (line 1)) (2.32.3)\n",
      "Requirement already satisfied: tqdm>=4.66.3 in ./music-gen-env/lib/python3.10/site-packages (from datasets==2.20.0->-r requirements.txt (line 1)) (4.66.4)\n",
      "Requirement already satisfied: xxhash in ./music-gen-env/lib/python3.10/site-packages (from datasets==2.20.0->-r requirements.txt (line 1)) (3.4.1)\n",
      "Requirement already satisfied: multiprocess in ./music-gen-env/lib/python3.10/site-packages (from datasets==2.20.0->-r requirements.txt (line 1)) (0.70.16)\n",
      "Requirement already satisfied: fsspec<=2024.5.0,>=2023.1.0 in ./music-gen-env/lib/python3.10/site-packages (from fsspec[http]<=2024.5.0,>=2023.1.0->datasets==2.20.0->-r requirements.txt (line 1)) (2024.5.0)\n",
      "Requirement already satisfied: aiohttp in ./music-gen-env/lib/python3.10/site-packages (from datasets==2.20.0->-r requirements.txt (line 1)) (3.9.5)\n",
      "Requirement already satisfied: huggingface-hub>=0.21.2 in ./music-gen-env/lib/python3.10/site-packages (from datasets==2.20.0->-r requirements.txt (line 1)) (0.23.4)\n",
      "Requirement already satisfied: packaging in ./music-gen-env/lib/python3.10/site-packages (from datasets==2.20.0->-r requirements.txt (line 1)) (24.1)\n",
      "Requirement already satisfied: pyyaml>=5.1 in ./music-gen-env/lib/python3.10/site-packages (from datasets==2.20.0->-r requirements.txt (line 1)) (6.0.1)\n",
      "Requirement already satisfied: python-dateutil>=2.8.2 in ./music-gen-env/lib/python3.10/site-packages (from pandas==2.2.2->-r requirements.txt (line 2)) (2.9.0.post0)\n",
      "Requirement already satisfied: pytz>=2020.1 in ./music-gen-env/lib/python3.10/site-packages (from pandas==2.2.2->-r requirements.txt (line 2)) (2024.1)\n",
      "Requirement already satisfied: tzdata>=2022.7 in ./music-gen-env/lib/python3.10/site-packages (from pandas==2.2.2->-r requirements.txt (line 2)) (2024.1)\n",
      "Requirement already satisfied: httpx<1,>=0.25 in ./music-gen-env/lib/python3.10/site-packages (from mistralai==0.4.1->-r requirements.txt (line 3)) (0.27.0)\n",
      "Requirement already satisfied: orjson<3.11,>=3.9.10 in ./music-gen-env/lib/python3.10/site-packages (from mistralai==0.4.1->-r requirements.txt (line 3)) (3.10.5)\n",
      "Requirement already satisfied: pydantic<3,>=2.5.2 in ./music-gen-env/lib/python3.10/site-packages (from mistralai==0.4.1->-r requirements.txt (line 3)) (2.7.4)\n",
      "Requirement already satisfied: aiosignal>=1.1.2 in ./music-gen-env/lib/python3.10/site-packages (from aiohttp->datasets==2.20.0->-r requirements.txt (line 1)) (1.3.1)\n",
      "Requirement already satisfied: attrs>=17.3.0 in ./music-gen-env/lib/python3.10/site-packages (from aiohttp->datasets==2.20.0->-r requirements.txt (line 1)) (23.2.0)\n",
      "Requirement already satisfied: frozenlist>=1.1.1 in ./music-gen-env/lib/python3.10/site-packages (from aiohttp->datasets==2.20.0->-r requirements.txt (line 1)) (1.4.1)\n",
      "Requirement already satisfied: multidict<7.0,>=4.5 in ./music-gen-env/lib/python3.10/site-packages (from aiohttp->datasets==2.20.0->-r requirements.txt (line 1)) (6.0.5)\n",
      "Requirement already satisfied: yarl<2.0,>=1.0 in ./music-gen-env/lib/python3.10/site-packages (from aiohttp->datasets==2.20.0->-r requirements.txt (line 1)) (1.9.4)\n",
      "Requirement already satisfied: async-timeout<5.0,>=4.0 in ./music-gen-env/lib/python3.10/site-packages (from aiohttp->datasets==2.20.0->-r requirements.txt (line 1)) (4.0.3)\n",
      "Requirement already satisfied: anyio in ./music-gen-env/lib/python3.10/site-packages (from httpx<1,>=0.25->mistralai==0.4.1->-r requirements.txt (line 3)) (4.4.0)\n",
      "Requirement already satisfied: certifi in ./music-gen-env/lib/python3.10/site-packages (from httpx<1,>=0.25->mistralai==0.4.1->-r requirements.txt (line 3)) (2024.6.2)\n",
      "Requirement already satisfied: httpcore==1.* in ./music-gen-env/lib/python3.10/site-packages (from httpx<1,>=0.25->mistralai==0.4.1->-r requirements.txt (line 3)) (1.0.5)\n",
      "Requirement already satisfied: idna in ./music-gen-env/lib/python3.10/site-packages (from httpx<1,>=0.25->mistralai==0.4.1->-r requirements.txt (line 3)) (3.7)\n",
      "Requirement already satisfied: sniffio in ./music-gen-env/lib/python3.10/site-packages (from httpx<1,>=0.25->mistralai==0.4.1->-r requirements.txt (line 3)) (1.3.1)\n",
      "Requirement already satisfied: h11<0.15,>=0.13 in ./music-gen-env/lib/python3.10/site-packages (from httpcore==1.*->httpx<1,>=0.25->mistralai==0.4.1->-r requirements.txt (line 3)) (0.14.0)\n",
      "Requirement already satisfied: typing-extensions>=3.7.4.3 in ./music-gen-env/lib/python3.10/site-packages (from huggingface-hub>=0.21.2->datasets==2.20.0->-r requirements.txt (line 1)) (4.12.2)\n",
      "Requirement already satisfied: annotated-types>=0.4.0 in ./music-gen-env/lib/python3.10/site-packages (from pydantic<3,>=2.5.2->mistralai==0.4.1->-r requirements.txt (line 3)) (0.7.0)\n",
      "Requirement already satisfied: pydantic-core==2.18.4 in ./music-gen-env/lib/python3.10/site-packages (from pydantic<3,>=2.5.2->mistralai==0.4.1->-r requirements.txt (line 3)) (2.18.4)\n",
      "Requirement already satisfied: six>=1.5 in ./music-gen-env/lib/python3.10/site-packages (from python-dateutil>=2.8.2->pandas==2.2.2->-r requirements.txt (line 2)) (1.16.0)\n",
      "Requirement already satisfied: charset-normalizer<4,>=2 in ./music-gen-env/lib/python3.10/site-packages (from requests>=2.32.2->datasets==2.20.0->-r requirements.txt (line 1)) (3.3.2)\n",
      "Requirement already satisfied: urllib3<3,>=1.21.1 in ./music-gen-env/lib/python3.10/site-packages (from requests>=2.32.2->datasets==2.20.0->-r requirements.txt (line 1)) (2.2.2)\n",
      "Requirement already satisfied: exceptiongroup>=1.0.2 in ./music-gen-env/lib/python3.10/site-packages (from anyio->httpx<1,>=0.25->mistralai==0.4.1->-r requirements.txt (line 3)) (1.2.1)\n"
     ]
    }
   ],
   "source": [
    "!python -m pip install -r requirements.txt"
   ]
  },
  {
   "cell_type": "code",
   "execution_count": 3,
   "metadata": {},
   "outputs": [
    {
     "data": {
      "text/plain": [
       "True"
      ]
     },
     "execution_count": 3,
     "metadata": {},
     "output_type": "execute_result"
    }
   ],
   "source": [
    "from dotenv import load_dotenv\n",
    "load_dotenv()"
   ]
  },
  {
   "cell_type": "code",
   "execution_count": 4,
   "metadata": {},
   "outputs": [
    {
     "name": "stderr",
     "output_type": "stream",
     "text": [
      "/Users/mufaddal/Projects/chat-music/music-gen/music-gen-env/lib/python3.10/site-packages/tqdm/auto.py:21: TqdmWarning: IProgress not found. Please update jupyter and ipywidgets. See https://ipywidgets.readthedocs.io/en/stable/user_install.html\n",
      "  from .autonotebook import tqdm as notebook_tqdm\n"
     ]
    },
    {
     "name": "stdout",
     "output_type": "stream",
     "text": [
      "Number of rows in eval dataset is 367\n"
     ]
    },
    {
     "data": {
      "text/html": [
       "<div>\n",
       "<style scoped>\n",
       "    .dataframe tbody tr th:only-of-type {\n",
       "        vertical-align: middle;\n",
       "    }\n",
       "\n",
       "    .dataframe tbody tr th {\n",
       "        vertical-align: top;\n",
       "    }\n",
       "\n",
       "    .dataframe thead th {\n",
       "        text-align: right;\n",
       "    }\n",
       "</style>\n",
       "<table border=\"1\" class=\"dataframe\">\n",
       "  <thead>\n",
       "    <tr style=\"text-align: right;\">\n",
       "      <th></th>\n",
       "      <th>id</th>\n",
       "      <th>instruction</th>\n",
       "      <th>stem</th>\n",
       "      <th>options</th>\n",
       "      <th>subject</th>\n",
       "      <th>answer</th>\n",
       "      <th>split</th>\n",
       "      <th>abc_score</th>\n",
       "      <th>analysis</th>\n",
       "    </tr>\n",
       "  </thead>\n",
       "  <tbody>\n",
       "    <tr>\n",
       "      <th>0</th>\n",
       "      <td>13</td>\n",
       "      <td>Read the following questions from the four opt...</td>\n",
       "      <td>Use the example below to answer the question t...</td>\n",
       "      <td>{'A': 'Major seventh in third inversion', 'B':...</td>\n",
       "      <td>knowledge</td>\n",
       "      <td>A</td>\n",
       "      <td>dev</td>\n",
       "      <td>L:1/4\\nM:4/4\\nK:D\\n [FGBd]4 |] %1</td>\n",
       "      <td>The chord in the given example has G as its ro...</td>\n",
       "    </tr>\n",
       "    <tr>\n",
       "      <th>1</th>\n",
       "      <td>41</td>\n",
       "      <td>Read the following questions from the four opt...</td>\n",
       "      <td>Use the example below to answer the question t...</td>\n",
       "      <td>{'A': 'C-sharp', 'B': 'E-sharp', 'C': 'A-sharp...</td>\n",
       "      <td>knowledge</td>\n",
       "      <td>C</td>\n",
       "      <td>dev</td>\n",
       "      <td>L:1/4\\nM:4/4\\nK:E\\n ^a4 |] %1</td>\n",
       "      <td>In the treble clef, the lines from bottom to t...</td>\n",
       "    </tr>\n",
       "    <tr>\n",
       "      <th>2</th>\n",
       "      <td>47</td>\n",
       "      <td>Read the following questions from the four opt...</td>\n",
       "      <td>Use the example below to answer the question t...</td>\n",
       "      <td>{'A': 'B-flat', 'B': 'D', 'C': 'B', 'D': 'D-fl...</td>\n",
       "      <td>knowledge</td>\n",
       "      <td>D</td>\n",
       "      <td>dev</td>\n",
       "      <td>L:1/4\\nM:4/4\\nK:Cb\\n D,4 |] %1</td>\n",
       "      <td>The note in the example is D-flat. The key sig...</td>\n",
       "    </tr>\n",
       "    <tr>\n",
       "      <th>3</th>\n",
       "      <td>88</td>\n",
       "      <td>Read the following questions from the four opt...</td>\n",
       "      <td>Use the example below to answer the question t...</td>\n",
       "      <td>{'A': 'ii\n",
       "6\n",
       "/\n",
       "4 – V – vi\n",
       "6 - iii\n",
       "', 'B': 'I\n",
       "6 ...</td>\n",
       "      <td>knowledge</td>\n",
       "      <td>B</td>\n",
       "      <td>dev</td>\n",
       "      <td>L:1/4\\nM:4/4\\nK:E\\n [G,B,E] [A,CE] [F,B,D] [F,...</td>\n",
       "      <td>The chords in the example are: E major in firs...</td>\n",
       "    </tr>\n",
       "    <tr>\n",
       "      <th>4</th>\n",
       "      <td>100</td>\n",
       "      <td>Read the following questions from the four opt...</td>\n",
       "      <td>Use the example below to answer the question t...</td>\n",
       "      <td>{'A': 'viio', 'B': 'V', 'C': 'ii', 'D': 'iv'}</td>\n",
       "      <td>knowledge</td>\n",
       "      <td>A</td>\n",
       "      <td>dev</td>\n",
       "      <td>L:1/4\\nM:4/4\\nK:F#\\n [EGB]4 |] %1</td>\n",
       "      <td>The chord in the given example is an E# fully ...</td>\n",
       "    </tr>\n",
       "  </tbody>\n",
       "</table>\n",
       "</div>"
      ],
      "text/plain": [
       "    id                                        instruction  \\\n",
       "0   13  Read the following questions from the four opt...   \n",
       "1   41  Read the following questions from the four opt...   \n",
       "2   47  Read the following questions from the four opt...   \n",
       "3   88  Read the following questions from the four opt...   \n",
       "4  100  Read the following questions from the four opt...   \n",
       "\n",
       "                                                stem  \\\n",
       "0  Use the example below to answer the question t...   \n",
       "1  Use the example below to answer the question t...   \n",
       "2  Use the example below to answer the question t...   \n",
       "3  Use the example below to answer the question t...   \n",
       "4  Use the example below to answer the question t...   \n",
       "\n",
       "                                             options    subject answer split  \\\n",
       "0  {'A': 'Major seventh in third inversion', 'B':...  knowledge      A   dev   \n",
       "1  {'A': 'C-sharp', 'B': 'E-sharp', 'C': 'A-sharp...  knowledge      C   dev   \n",
       "2  {'A': 'B-flat', 'B': 'D', 'C': 'B', 'D': 'D-fl...  knowledge      D   dev   \n",
       "3  {'A': 'ii\n",
       "6\n",
       "/\n",
       "4 – V – vi\n",
       "6 - iii\n",
       "', 'B': 'I\n",
       "6 ...  knowledge      B   dev   \n",
       "4      {'A': 'viio', 'B': 'V', 'C': 'ii', 'D': 'iv'}  knowledge      A   dev   \n",
       "\n",
       "                                           abc_score  \\\n",
       "0                  L:1/4\\nM:4/4\\nK:D\\n [FGBd]4 |] %1   \n",
       "1                      L:1/4\\nM:4/4\\nK:E\\n ^a4 |] %1   \n",
       "2                     L:1/4\\nM:4/4\\nK:Cb\\n D,4 |] %1   \n",
       "3  L:1/4\\nM:4/4\\nK:E\\n [G,B,E] [A,CE] [F,B,D] [F,...   \n",
       "4                  L:1/4\\nM:4/4\\nK:F#\\n [EGB]4 |] %1   \n",
       "\n",
       "                                            analysis  \n",
       "0  The chord in the given example has G as its ro...  \n",
       "1  In the treble clef, the lines from bottom to t...  \n",
       "2  The note in the example is D-flat. The key sig...  \n",
       "3  The chords in the example are: E major in firs...  \n",
       "4  The chord in the given example is an E# fully ...  "
      ]
     },
     "execution_count": 4,
     "metadata": {},
     "output_type": "execute_result"
    }
   ],
   "source": [
    "from datasets import load_dataset\n",
    "\n",
    "mt_bench_data = load_dataset(\"m-a-p/MusicTheoryBench\")\n",
    "mt_bench_dev = mt_bench_data[\"dev\"].to_pandas()\n",
    "mt_bench_test = mt_bench_data[\"test\"].to_pandas()\n",
    "\n",
    "print(f\"Number of rows in eval dataset is {len(mt_bench_test)}\")\n",
    "mt_bench_dev.head()\n"
   ]
  },
  {
   "cell_type": "code",
   "execution_count": 5,
   "metadata": {},
   "outputs": [],
   "source": [
    "mt_bench_dev.fillna(\"\", inplace=True)\n",
    "mt_bench_test.fillna(\"\", inplace=True)"
   ]
  },
  {
   "cell_type": "code",
   "execution_count": 6,
   "metadata": {},
   "outputs": [
    {
     "name": "stdout",
     "output_type": "stream",
     "text": [
      "1: Major seventh in third inversion\n",
      "2: Dominant seventh in second inversion\n",
      "3: Major/minor seventh in third inversion\n",
      "4: Minor seventh in second inversion\n",
      "\n"
     ]
    }
   ],
   "source": [
    "def get_options_text(options_dict):\n",
    "  text = \"\"\n",
    "  for i, value in enumerate(options_dict.values()):\n",
    "    text += f\"{i+1}: {value}\\n\"\n",
    "  return text\n",
    "\n",
    "mt_bench_dev[\"options_text\"] = mt_bench_dev[\"options\"].apply(get_options_text)\n",
    "mt_bench_test[\"options_text\"] = mt_bench_test[\"options\"].apply(get_options_text)\n",
    "\n",
    "print(mt_bench_dev[\"options_text\"][0])"
   ]
  },
  {
   "cell_type": "code",
   "execution_count": 7,
   "metadata": {},
   "outputs": [
    {
     "name": "stdout",
     "output_type": "stream",
     "text": [
      "**Instruction:**\n",
      "Read the following questions from the four options (A, B, C and D) given in each question. Choose the best option\n",
      "\n",
      "**ABC Score:**\n",
      "L:1/4\n",
      "M:4/4\n",
      "K:D\n",
      " [FGBd]4 |] %1\n",
      "\n",
      "**Question:**\n",
      "Use the example below to answer the question that follows.\n",
      "Which of the following best describes the seventh chord in the above example?\n",
      "\n",
      "**Options**\n",
      "1: Major seventh in third inversion\n",
      "2: Dominant seventh in second inversion\n",
      "3: Major/minor seventh in third inversion\n",
      "4: Minor seventh in second inversion\n",
      "\n",
      "\n",
      "**Additional Instruction:**\n",
      "1. Strictly adhere to the output format. No yapping, no chit-chat, just the output format.\n",
      "2. Strict use double quotes for the keys in the output JSON.\n",
      "\n",
      "**Output Format:**\n",
      "{\n",
      "  \"analysis\": <The explanation goes here, typeLstr>,\n",
      "  \"answer\": <index of the correct option, type:int>\n",
      "}\n",
      "\n"
     ]
    }
   ],
   "source": [
    "output_tag = \"\"\"\n",
    "**Additional Instruction:**\n",
    "1. Strictly adhere to the output format. No yapping, no chit-chat, just the output format.\n",
    "2. Strict use double quotes for the keys in the output JSON.\n",
    "\n",
    "**Output Format:**\n",
    "{\n",
    "  \"analysis\": <The explanation goes here, typeLstr>,\n",
    "  \"answer\": <index of the correct option, type:int>\n",
    "}\n",
    "\"\"\"\n",
    "\n",
    "mt_bench_dev[\"input_text\"] = \"**Instruction:**\\n\" + mt_bench_dev[\"instruction\"] + \"\\n\\n**ABC Score:**\\n\" + mt_bench_dev[\"abc_score\"] + \"\\n\\n**Question:**\\n\" + mt_bench_dev[\"stem\"] + \"\\n\\n**Options**\\n\" + mt_bench_dev[\"options_text\"] + \"\\n\" + output_tag\n",
    "mt_bench_test[\"input_text\"] = \"**Instruction:**\\n\" + mt_bench_test[\"instruction\"] + \"\\n\\n**ABC Score:**\\n\" + mt_bench_test[\"abc_score\"] + \"\\n\\n**Question:**\\n\" + mt_bench_test[\"stem\"] + \"\\n\\n**Options**\\n\" + mt_bench_test[\"options_text\"] + \"\\n\" + output_tag\n",
    "\n",
    "print(mt_bench_dev[\"input_text\"][0])"
   ]
  },
  {
   "cell_type": "code",
   "execution_count": 8,
   "metadata": {},
   "outputs": [
    {
     "name": "stdout",
     "output_type": "stream",
     "text": [
      "{\n",
      "  \"analysis\": \"The ABC notation provided represents a chord with four notes: F, A, C, and Bd (flat). This chord is in the key of F major, and the seventh note is Bd (flat). Since the chord is in the F major key, it is a dominant seventh chord. In a dominant seventh chord, the seventh note is a minor seventh above the root. In this case, Bd (flat) is a minor seventh above F. The chord is also in third inversion because the third (A) is the highest note. However, the specific inversion is determined by the bass note, which in this case is not given. But since A is the third note in the chord, the chord is in third inversion relative to its root (F).\",\n",
      "  \"answer\": 4\n",
      "}\n"
     ]
    }
   ],
   "source": [
    "import os\n",
    "from mistralai.client import MistralClient\n",
    "from mistralai.models.chat_completion import ChatMessage\n",
    "\n",
    "api_key = os.environ[\"MISTRAL_API_KEY\"]\n",
    "model = \"open-mistral-7b\"\n",
    "\n",
    "client = MistralClient(api_key=api_key)\n",
    "\n",
    "chat_response = client.chat(\n",
    "    model=model,\n",
    "    messages=[ChatMessage(role=\"user\", content=mt_bench_dev[\"input_text\"][0])]\n",
    ")\n",
    "\n",
    "output_text = chat_response.choices[0].message.content\n",
    "print(output_text)"
   ]
  },
  {
   "cell_type": "code",
   "execution_count": 9,
   "metadata": {},
   "outputs": [
    {
     "name": "stdout",
     "output_type": "stream",
     "text": [
      "4\n"
     ]
    }
   ],
   "source": [
    "import json\n",
    "output_text = output_text.replace(\"`\", \"\")\n",
    "json_resp = json.loads(output_text)\n",
    "print(json_resp[\"answer\"])"
   ]
  },
  {
   "cell_type": "code",
   "execution_count": 10,
   "metadata": {},
   "outputs": [],
   "source": [
    "def generate_answer(input_text):\n",
    "\n",
    "    chat_response = client.chat(\n",
    "        model=model,\n",
    "        messages=[ChatMessage(role=\"user\", content=input_text)]\n",
    "    )\n",
    "\n",
    "    output_text = chat_response.choices[0].message.content\n",
    "    \n",
    "    # Replace ' with \" to convert the output to a valid json format\n",
    "    try:    \n",
    "        json_resp = json.loads(output_text)\n",
    "        answer, analysis = json_resp[\"answer\"], json_resp[\"analysis\"]\n",
    "    except Exception as e:\n",
    "        print(f\"Model output: {output_text}\")\n",
    "        print(\"Failed due to error: \", e)\n",
    "        answer, analysis = -1, \"Failed due to error\"\n",
    "            \n",
    "    return answer, analysis"
   ]
  },
  {
   "cell_type": "code",
   "execution_count": 11,
   "metadata": {},
   "outputs": [],
   "source": [
    "mt_bench_dev_pred = []\n",
    "mt_bench_dev_analysis = []\n",
    "\n",
    "for input_text in mt_bench_dev[\"input_text\"]:\n",
    "    answer, analysis = generate_answer(input_text)\n",
    "    mt_bench_dev_pred.append(answer)\n",
    "    mt_bench_dev_analysis.append(analysis)\n",
    "\n",
    "mt_bench_dev[\"prediction\"] = mt_bench_dev_pred\n",
    "mt_bench_dev[\"analysis\"] = mt_bench_dev_analysis"
   ]
  },
  {
   "cell_type": "code",
   "execution_count": 12,
   "metadata": {},
   "outputs": [
    {
     "name": "stderr",
     "output_type": "stream",
     "text": [
      " 86%|████████▌ | 314/367 [07:05<01:30,  1.70s/it]"
     ]
    },
    {
     "name": "stdout",
     "output_type": "stream",
     "text": [
      "Model output: {\n",
      "  \"analysis\": \"Passing chromatic tones are tones that move from one note to another note that is chromatically adjacent. In this case, to find passing chromatic tones, we should look for notes where the melody moves by a semitone. Let's examine the options provided:\",\n",
      "  \"answer\": 4\n",
      "}\n",
      "\n",
      "Explanation:\n",
      "1: d^cB moves by a whole tone, not a semitone.\n",
      "2: F_GE moves by a whole tone, not a semitone.\n",
      "3: ABc moves by a whole tone, not a semitone.\n",
      "4: E^DE moves by a semitone (E to D), which makes it a passing chromatic tone.\n",
      "Failed due to error:  Extra data: line 6 column 1 (char 288)\n"
     ]
    },
    {
     "name": "stderr",
     "output_type": "stream",
     "text": [
      "100%|██████████| 367/367 [08:28<00:00,  1.39s/it]\n"
     ]
    }
   ],
   "source": [
    "from tqdm.auto import tqdm\n",
    "\n",
    "mt_bench_test_pred = []\n",
    "mt_bench_test_analysis = []\n",
    "   e3nnn    \n",
    "for input_text in tqdm(mt_bench_test[\"input_text\"]):\n",
    "    answer, analysis = generate_answer(input_text)\n",
    "    mt_bench_test_pred.append(answer)\n",
    "    mt_bench_test_analysis.append(analysis)\n",
    "\n",
    "mt_bench_test[\"prediction\"] = mt_bench_test_pred  \n",
    "mt_bench_test[\"analysis\"] = mt_bench_test_analysis"
   ]
  },
  {
   "cell_type": "code",
   "execution_count": 17,
   "metadata": {},
   "outputs": [],
   "source": [
    "answer_to_idx = {\n",
    "    \"A\": 1,\n",
    "    \"B\": 2,\n",
    "    \"C\": 3,\n",
    "    \"D\": 4,\n",
    "}\n",
    "mt_bench_dev[\"Answer_Idx\"] = mt_bench_dev[\"answer\"].map(answer_to_idx)\n",
    "mt_bench_test[\"Answer_Idx\"] = mt_bench_test[\"answer\"].map(answer_to_idx)"
   ]
  },
  {
   "cell_type": "code",
   "execution_count": 18,
   "metadata": {},
   "outputs": [
    {
     "name": "stdout",
     "output_type": "stream",
     "text": [
      "Accuracy on the dev set is 20.00%\n",
      "Accuracy on the test set is 43.60%\n"
     ]
    }
   ],
   "source": [
    "dev_accuracy = 100*(mt_bench_dev[\"prediction\"] == mt_bench_dev[\"Answer_Idx\"]).sum() / len(mt_bench_dev)\n",
    "print(f\"Accuracy on the dev set is {dev_accuracy:.2f}%\")\n",
    "\n",
    "accuracy = 100*(mt_bench_test[\"prediction\"] == mt_bench_test[\"Answer_Idx\"]).sum() / len(mt_bench_test)\n",
    "print(f\"Accuracy on the test set is {accuracy:.2f}%\")"
   ]
  },
  {
   "cell_type": "code",
   "execution_count": 16,
   "metadata": {},
   "outputs": [],
   "source": [
    "# from tqdm.auto import tqdm\n",
    "\n",
    "# def get_accuracy_on_dataset(dataset):\n",
    "#     options_text = []\n",
    "#     for options_dict in dataset[\"options\"]:\n",
    "#         text = \"\"\n",
    "#         for i, value in enumerate(options_dict.values()):\n",
    "#             text += f\"{i+1}: {value}\\n\"\n",
    "#         options_text.append(text)\n",
    "#     dataset[\"options_text\"] = options_text\n",
    "\n",
    "#     dataset[\"input_text\"] = \"**Instruction:**\\n\" + dataset[\"instruction\"] + \"\\n\\n**ABC Score:**\\n\" + dataset[\"abc_score\"] + \"\\n\\n**Question:**\\n\" + dataset[\"stem\"] + \"\\n\\n**Options**\\n\" + dataset[\"options_text\"] + \"\\n\" + output_tag\n",
    "    \n",
    "#     dataset_pred = []\n",
    "#     dataset_analysis = []\n",
    "#     for input_text in tqdm(dataset[\"input_text\"]):\n",
    "#         answer, analysis = generate_answer(input_text)\n",
    "#         dataset_pred.append(answer)\n",
    "#         dataset_analysis.append(analysis)\n",
    "\n",
    "#     dataset[\"prediction\"] = dataset_pred\n",
    "#     dataset[\"analysis\"] = dataset_analysis\n",
    "\n",
    "#     dataset[\"Answer_Idx\"] = dataset[\"answer\"].map(answer_to_idx)\n",
    "#     accuracy = 100*(dataset[\"prediction\"] == dataset[\"Answer_Idx\"]).sum() / len(dataset)\n",
    "\n",
    "#     return accuracy\n",
    "\n",
    "# test_dataset = mt_bench_test.copy()\n",
    "# accuracy = get_accuracy_on_dataset(test_dataset)\n",
    "# print(f\"Accuracy on the test set is {accuracy:.2f}%\")"
   ]
  }
 ],
 "metadata": {
  "kernelspec": {
   "display_name": "music-gen-env",
   "language": "python",
   "name": "python3"
  },
  "language_info": {
   "codemirror_mode": {
    "name": "ipython",
    "version": 3
   },
   "file_extension": ".py",
   "mimetype": "text/x-python",
   "name": "python",
   "nbconvert_exporter": "python",
   "pygments_lexer": "ipython3",
   "version": "3.10.14"
  }
 },
 "nbformat": 4,
 "nbformat_minor": 2
}
